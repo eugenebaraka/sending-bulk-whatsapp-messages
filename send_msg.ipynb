{
 "cells": [
  {
   "cell_type": "code",
   "execution_count": null,
   "metadata": {},
   "outputs": [],
   "source": [
    "!pip install selenium\n",
    "!pip install webdriver-wait\n",
    "!pip install pyperclip"
   ]
  },
  {
   "cell_type": "code",
   "execution_count": 7,
   "metadata": {},
   "outputs": [],
   "source": [
    "from selenium import webdriver\n",
    "from selenium.webdriver.firefox.service import Service\n",
    "from selenium.webdriver.common.keys import Keys\n",
    "import pyperclip\n",
    "import time\n"
   ]
  },
  {
   "cell_type": "code",
   "execution_count": null,
   "metadata": {},
   "outputs": [],
   "source": [
    "\n",
    "# profile_path = r\"C:\\Users\\eugen\\OneDrive - McGill University\\Desktop\\Projects\\whatsapp messages\\profile.zip\"\n",
    "browser = webdriver.Firefox(executable_path=r\"C:\\Users\\eugen\\OneDrive - McGill University\\Desktop\\Projects\\whatsapp messages\")\n",
    "browser.maximize_window()\n",
    "\n",
    "\n",
    "browser.get('https://web.whatsapp.com/')\n",
    "\n"
   ]
  },
  {
   "cell_type": "code",
   "execution_count": null,
   "metadata": {},
   "outputs": [],
   "source": [
    "\n",
    "with open('contacts.txt', encoding= 'utf8') as f:\n",
    "    contacts = f.read().splitlines()\n",
    "\n",
    "\n",
    "with open(\"msg.txt\", encoding= 'utf8') as f:\n",
    "    message = f.read()\n",
    "\n",
    "\n",
    "for contact in contacts:\n",
    "    search_xpath = '//div[@contenteditable=\"true\"][@data-tab=\"3\"]'\n",
    "    search_box = WebDriverWait(browser, 500).until(\n",
    "        EC.presence_of_element_located((By.XPATH, search_xpath)))\n",
    "\n",
    "    searchbox.clear()\n",
    "    pyperclip.copy(contact)\n",
    "\n",
    "    searchbox.send_keys(Keys.CONTROL, 'v')\n",
    "\n",
    "\n"
   ]
  }
 ],
 "metadata": {
  "interpreter": {
   "hash": "369f2c481f4da34e4445cda3fffd2e751bd1c4d706f27375911949ba6bb62e1c"
  },
  "kernelspec": {
   "display_name": "Python 3.10.1 64-bit",
   "language": "python",
   "name": "python3"
  },
  "language_info": {
   "codemirror_mode": {
    "name": "ipython",
    "version": 3
   },
   "file_extension": ".py",
   "mimetype": "text/x-python",
   "name": "python",
   "nbconvert_exporter": "python",
   "pygments_lexer": "ipython3",
   "version": "3.10.1"
  },
  "orig_nbformat": 4
 },
 "nbformat": 4,
 "nbformat_minor": 2
}
