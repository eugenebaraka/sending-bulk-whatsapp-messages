{
 "cells": [
  {
   "cell_type": "code",
   "execution_count": null,
   "metadata": {},
   "outputs": [],
   "source": [
    "!pip install selenium\n",
    "!pip install webdriver-wait\n",
    "!pip install pyperclip"
   ]
  },
  {
   "cell_type": "code",
   "execution_count": 1,
   "metadata": {},
   "outputs": [],
   "source": [
    "from selenium import webdriver\n",
    "from selenium.webdriver.common.by import By\n",
    "from selenium.webdriver.firefox.service import Service\n",
    "from selenium.webdriver.firefox.options import Options as FirefoxOptions\n",
    "from selenium.webdriver.support.ui import WebDriverWait\n",
    "from selenium.webdriver.support import expected_conditions as EC\n",
    "from selenium.webdriver.common.keys import Keys\n",
    "import pyperclip\n",
    "import time\n"
   ]
  },
  {
   "cell_type": "code",
   "execution_count": 13,
   "metadata": {},
   "outputs": [
    {
     "name": "stderr",
     "output_type": "stream",
     "text": [
      "C:\\Users\\eugen\\AppData\\Local\\Temp\\ipykernel_7500\\1603583455.py:42: DeprecationWarning: find_element_by_xpath is deprecated. Please use find_element(by=By.XPATH, value=xpath) instead\n",
      "  message_input = browser.find_element_by_xpath(message_box_xpath)\n"
     ]
    }
   ],
   "source": [
    "\n",
    "# # profile_path = r\"C:\\Users\\eugen\\OneDrive - McGill University\\Desktop\\Projects\\whatsapp messages\\profile.zip\"\n",
    "# firefox_options = FirefoxOptions()\n",
    "# s = Service(\"C:/Users/eugen/Desktop/geckodriver.exe\")\n",
    "# browser = webdriver.firefox(service = s, options = firefox_options)\n",
    "# #browser = webdriver.Firefox(executable_path=r\"C:\\Users\\eugen\\OneDrive - McGill University\\Desktop\\Projects\\whatsapp\", options=firefox_options)\n",
    "# browser.maximize_window()\n",
    "\n",
    "\n",
    "s = Service(r\"C:\\Users\\eugen\\OneDrive - McGill University\\Desktop\\Projects\\geckodriver.exe\")\n",
    "browser = webdriver.Firefox(service = s)\n",
    "browser.maximize_window()\n",
    "browser.get('https://web.whatsapp.com/')\n",
    "\n",
    "\n",
    "with open('contacts.txt', encoding= 'utf8') as f:\n",
    "    contacts = f.read().splitlines()\n",
    "\n",
    "\n",
    "with open(\"msg.txt\", encoding= 'utf8') as f:\n",
    "    message = f.read()\n",
    "\n",
    "\n",
    "for contact in contacts:\n",
    "    search_xpath = '//div[@contenteditable=\"true\"][@data-tab=\"3\"]'\n",
    "    search_box = WebDriverWait(browser, 500).until(\n",
    "        EC.presence_of_element_located((By.XPATH, search_xpath)))\n",
    "\n",
    "    search_box.clear()\n",
    "\n",
    "\n",
    "    time.sleep(5)\n",
    "\n",
    "    pyperclip.copy(contact)\n",
    "    search_box.send_keys(Keys.CONTROL, 'v')\n",
    "\n",
    "    time.sleep(5)\n",
    "\n",
    "    send_xpath = f'//span[@title=\"{contact}\"]'\n",
    "    person_name = browser.find_element(By.XPATH, send_xpath)\n",
    "    person_name.click()\n",
    "    message_box_xpath = '//div[@contenteditable=\"true\"][@data-tab=\"10\"]'\n",
    "    message_input = browser.find_element_by_xpath(message_box_xpath)\n",
    "\n",
    "    time.sleep(5)\n",
    "\n",
    "    pyperclip.copy(message)\n",
    "    message_input.send_keys(Keys.CONTROL, 'v')\n",
    "    message_input.send_keys(Keys.ENTER)\n",
    "\n",
    "\n",
    "    time.sleep(5)"
   ]
  }
 ],
 "metadata": {
  "interpreter": {
   "hash": "369f2c481f4da34e4445cda3fffd2e751bd1c4d706f27375911949ba6bb62e1c"
  },
  "kernelspec": {
   "display_name": "Python 3.10.1 64-bit",
   "language": "python",
   "name": "python3"
  },
  "language_info": {
   "codemirror_mode": {
    "name": "ipython",
    "version": 3
   },
   "file_extension": ".py",
   "mimetype": "text/x-python",
   "name": "python",
   "nbconvert_exporter": "python",
   "pygments_lexer": "ipython3",
   "version": "3.10.1"
  },
  "orig_nbformat": 4
 },
 "nbformat": 4,
 "nbformat_minor": 2
}
